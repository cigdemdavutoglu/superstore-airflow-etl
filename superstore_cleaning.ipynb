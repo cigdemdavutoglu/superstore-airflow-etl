{
 "cells": [
  {
   "cell_type": "code",
   "execution_count": 1,
   "metadata": {},
   "outputs": [],
   "source": [
    "import pandas as pd"
   ]
  },
  {
   "cell_type": "code",
   "execution_count": 2,
   "metadata": {},
   "outputs": [],
   "source": [
    "# Veriyi oku\n",
    "df = pd.read_csv(\"superstore.csv\", encoding='ISO-8859-1')"
   ]
  },
  {
   "cell_type": "code",
   "execution_count": 4,
   "metadata": {},
   "outputs": [
    {
     "name": "stdout",
     "output_type": "stream",
     "text": [
      "##################### Shape #####################\n",
      "(9994, 21)\n",
      "##################### Types #####################\n",
      "Row ID             int64\n",
      "Order ID          object\n",
      "Order Date        object\n",
      "Ship Date         object\n",
      "Ship Mode         object\n",
      "Customer ID       object\n",
      "Customer Name     object\n",
      "Segment           object\n",
      "Country           object\n",
      "City              object\n",
      "State             object\n",
      "Postal Code        int64\n",
      "Region            object\n",
      "Product ID        object\n",
      "Category          object\n",
      "Sub-Category      object\n",
      "Product Name      object\n",
      "Sales            float64\n",
      "Quantity           int64\n",
      "Discount         float64\n",
      "Profit           float64\n",
      "dtype: object\n",
      "##################### Head #####################\n",
      "   Row ID        Order ID Order Date   Ship Date     Ship Mode Customer ID  \\\n",
      "0       1  CA-2016-152156  11/8/2016  11/11/2016  Second Class    CG-12520   \n",
      "1       2  CA-2016-152156  11/8/2016  11/11/2016  Second Class    CG-12520   \n",
      "2       3  CA-2016-138688  6/12/2016   6/16/2016  Second Class    DV-13045   \n",
      "\n",
      "     Customer Name    Segment        Country         City  ... Postal Code  \\\n",
      "0      Claire Gute   Consumer  United States    Henderson  ...       42420   \n",
      "1      Claire Gute   Consumer  United States    Henderson  ...       42420   \n",
      "2  Darrin Van Huff  Corporate  United States  Los Angeles  ...       90036   \n",
      "\n",
      "   Region       Product ID         Category Sub-Category  \\\n",
      "0   South  FUR-BO-10001798        Furniture    Bookcases   \n",
      "1   South  FUR-CH-10000454        Furniture       Chairs   \n",
      "2    West  OFF-LA-10000240  Office Supplies       Labels   \n",
      "\n",
      "                                        Product Name   Sales  Quantity  \\\n",
      "0                  Bush Somerset Collection Bookcase  261.96         2   \n",
      "1  Hon Deluxe Fabric Upholstered Stacking Chairs,...  731.94         3   \n",
      "2  Self-Adhesive Address Labels for Typewriters b...   14.62         2   \n",
      "\n",
      "   Discount    Profit  \n",
      "0       0.0   41.9136  \n",
      "1       0.0  219.5820  \n",
      "2       0.0    6.8714  \n",
      "\n",
      "[3 rows x 21 columns]\n",
      "##################### Tail #####################\n",
      "      Row ID        Order ID Order Date Ship Date       Ship Mode Customer ID  \\\n",
      "9991    9992  CA-2017-121258  2/26/2017  3/3/2017  Standard Class    DB-13060   \n",
      "9992    9993  CA-2017-121258  2/26/2017  3/3/2017  Standard Class    DB-13060   \n",
      "9993    9994  CA-2017-119914   5/4/2017  5/9/2017    Second Class    CC-12220   \n",
      "\n",
      "     Customer Name   Segment        Country         City  ... Postal Code  \\\n",
      "9991   Dave Brooks  Consumer  United States   Costa Mesa  ...       92627   \n",
      "9992   Dave Brooks  Consumer  United States   Costa Mesa  ...       92627   \n",
      "9993  Chris Cortes  Consumer  United States  Westminster  ...       92683   \n",
      "\n",
      "      Region       Product ID         Category Sub-Category  \\\n",
      "9991    West  TEC-PH-10003645       Technology       Phones   \n",
      "9992    West  OFF-PA-10004041  Office Supplies        Paper   \n",
      "9993    West  OFF-AP-10002684  Office Supplies   Appliances   \n",
      "\n",
      "                                           Product Name    Sales  Quantity  \\\n",
      "9991                              Aastra 57i VoIP phone  258.576         2   \n",
      "9992  It's Hot Message Books with Stickers, 2 3/4\" x 5\"   29.600         4   \n",
      "9993  Acco 7-Outlet Masterpiece Power Center, Wihtou...  243.160         2   \n",
      "\n",
      "      Discount   Profit  \n",
      "9991       0.2  19.3932  \n",
      "9992       0.0  13.3200  \n",
      "9993       0.0  72.9480  \n",
      "\n",
      "[3 rows x 21 columns]\n",
      "##################### NA #####################\n",
      "Row ID           0\n",
      "Order ID         0\n",
      "Order Date       0\n",
      "Ship Date        0\n",
      "Ship Mode        0\n",
      "Customer ID      0\n",
      "Customer Name    0\n",
      "Segment          0\n",
      "Country          0\n",
      "City             0\n",
      "State            0\n",
      "Postal Code      0\n",
      "Region           0\n",
      "Product ID       0\n",
      "Category         0\n",
      "Sub-Category     0\n",
      "Product Name     0\n",
      "Sales            0\n",
      "Quantity         0\n",
      "Discount         0\n",
      "Profit           0\n",
      "dtype: int64\n"
     ]
    }
   ],
   "source": [
    "# EDA\n",
    "\n",
    "def check_df(dataframe):\n",
    "    print(\"##################### Shape #####################\")\n",
    "    print(dataframe.shape)\n",
    "    print(\"##################### Types #####################\")\n",
    "    print(dataframe.dtypes)\n",
    "    print(\"##################### Head #####################\")\n",
    "    print(dataframe.head(3))\n",
    "    print(\"##################### Tail #####################\")\n",
    "    print(dataframe.tail(3))\n",
    "    print(\"##################### NA #####################\")\n",
    "    print(dataframe.isnull().sum())\n",
    "    \n",
    "\n",
    "check_df(df)"
   ]
  },
  {
   "cell_type": "code",
   "execution_count": 5,
   "metadata": {},
   "outputs": [],
   "source": [
    "# Tip dönüşümleri \n",
    "df['Order Date'] = pd.to_datetime(df['Order Date'], format=\"%m/%d/%Y\")\n",
    "df['Ship Date'] = pd.to_datetime(df['Ship Date'], format=\"%m/%d/%Y\")"
   ]
  },
  {
   "cell_type": "code",
   "execution_count": 6,
   "metadata": {},
   "outputs": [],
   "source": [
    "# Önemli kolonlar türet\n",
    "df['Shipping Duration days'] = (df['Ship Date'] - df['Order Date']).dt.days\n",
    "df['Cost'] = df['Sales'] - df['Profit']\n"
   ]
  },
  {
   "cell_type": "code",
   "execution_count": 7,
   "metadata": {},
   "outputs": [],
   "source": [
    "# Gereksiz kolonları sil\n",
    "df.drop(columns=['Row ID', 'Country'], inplace=True)"
   ]
  },
  {
   "cell_type": "code",
   "execution_count": 8,
   "metadata": {},
   "outputs": [],
   "source": [
    "df.columns = [col.lower().replace(' ', '_') for col in df.columns]"
   ]
  },
  {
   "cell_type": "code",
   "execution_count": 8,
   "metadata": {},
   "outputs": [],
   "source": [
    "# Boyut (Dimension) Tabloları\n",
    "\n",
    "\n",
    "# dim_customer\n",
    "dim_customer = df[['customer_id', 'customer_name', 'segment', 'city', 'state', 'region']].drop_duplicates().reset_index(drop=True)\n",
    "\n",
    "# dim_product\n",
    "dim_product = df[['product_id', 'product_name', 'category', 'sub-category']].drop_duplicates().reset_index(drop=True)\n",
    "\n",
    "# dim_date\n",
    "df['order_date'] = pd.to_datetime(df['order_date'])  # Tarih dönüşümü (gerekirse)\n",
    "dim_date = df[['order_date']].drop_duplicates().reset_index(drop=True)\n",
    "dim_date['order_date_id'] = dim_date['order_date'].dt.strftime('%Y%m%d').astype(int)\n",
    "dim_date['order_day'] = dim_date['order_date'].dt.day\n",
    "dim_date['order_month'] = dim_date['order_date'].dt.month\n",
    "dim_date['order_year'] = dim_date['order_date'].dt.year\n",
    "dim_date['order_weekday'] = dim_date['order_date'].dt.day_name()\n",
    "\n",
    "\n",
    "# Fakt (Fact) Tablosu\n",
    "\n",
    "\n",
    "fact_sales = df[[\n",
    "    'order_id', 'order_date', 'product_id', 'customer_id',\n",
    "    'sales', 'quantity', 'discount', 'profit', 'cost', 'shipping_duration_days'\n",
    "]].copy()\n",
    "\n",
    "fact_sales['order_date_id'] = fact_sales['order_date'].dt.strftime('%Y%m%d').astype(int)\n",
    "fact_sales.drop(columns=['order_date'], inplace=True)\n",
    "\n"
   ]
  },
  {
   "cell_type": "code",
   "execution_count": 9,
   "metadata": {},
   "outputs": [],
   "source": [
    "# Dim tablolarındaki tekrarlı kayıtları silme ve index sıfırlama\n",
    "dim_customer = dim_customer.drop_duplicates(subset='customer_id').reset_index(drop=True)\n",
    "dim_product = dim_product.drop_duplicates(subset='product_id').reset_index(drop=True)\n",
    "dim_date = dim_date.drop_duplicates(subset='order_date_id').reset_index(drop=True)"
   ]
  },
  {
   "cell_type": "code",
   "execution_count": 10,
   "metadata": {},
   "outputs": [],
   "source": [
    "# CSV olarak kaydet\n",
    "dim_customer.to_csv(\"/home/train/datasets/dim_customer.csv\", index=False)\n",
    "dim_product.to_csv(\"/home/train/datasets/dim_product.csv\", index=False)\n",
    "dim_date.to_csv(\"/home/train/datasets/dim_date.csv\", index=False)\n",
    "fact_sales.to_csv(\"/home/train/datasets/fact_sales.csv\", index=False)\n"
   ]
  },
  {
   "cell_type": "code",
   "execution_count": null,
   "metadata": {},
   "outputs": [],
   "source": []
  }
 ],
 "metadata": {
  "kernelspec": {
   "display_name": "venvspark",
   "language": "python",
   "name": "venvspark"
  },
  "language_info": {
   "codemirror_mode": {
    "name": "ipython",
    "version": 3
   },
   "file_extension": ".py",
   "mimetype": "text/x-python",
   "name": "python",
   "nbconvert_exporter": "python",
   "pygments_lexer": "ipython3",
   "version": "3.6.8"
  }
 },
 "nbformat": 4,
 "nbformat_minor": 4
}
